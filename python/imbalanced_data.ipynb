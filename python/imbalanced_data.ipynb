{
 "cells": [
  {
   "cell_type": "markdown",
   "id": "62039f04-337d-4d4a-b673-e6659769c35e",
   "metadata": {},
   "source": [
    "# Imbalanced Data and SMOTE"
   ]
  },
  {
   "cell_type": "markdown",
   "id": "e70c1081-1ed6-48d3-908c-230a4d7b2a58",
   "metadata": {},
   "source": [
    "An investigation into imbalanced data and the use of Synthetic Minority Oversampling Technique (SMOTE) to address class imbalance using Credit Card Fraud Detection data. Data obtained from:\n",
    "\n",
    "https://www.kaggle.com/mlg-ulb/creditcardfraud\n",
    "\n",
    "For details of the data see above link. The data also consists of a `Time` column that is not relevant for this analysis and will be dropped. `Class` is the response variable and indicates if a transaction is fradulent or not."
   ]
  },
  {
   "cell_type": "code",
   "execution_count": 1,
   "id": "c3470088-18ef-4bed-8b1c-1c8a763dc71d",
   "metadata": {},
   "outputs": [],
   "source": [
    "import numpy as np\n",
    "import pandas as pd\n",
    "\n",
    "from sklearn.preprocessing import StandardScaler\n",
    "from sklearn.model_selection import train_test_split\n",
    "from sklearn.linear_model import LogisticRegression\n",
    "from sklearn.metrics import f1_score, accuracy_score, confusion_matrix\n",
    "from sklearn.metrics import precision_score, recall_score, ConfusionMatrixDisplay\n",
    "from sklearn.metrics import RocCurveDisplay, PrecisionRecallDisplay\n",
    "from imblearn.over_sampling import SMOTE"
   ]
  },
  {
   "cell_type": "code",
   "execution_count": 2,
   "id": "a49604da-84ea-4923-b00b-9f1335c09aa9",
   "metadata": {},
   "outputs": [
    {
     "data": {
      "text/html": [
       "<div>\n",
       "<style scoped>\n",
       "    .dataframe tbody tr th:only-of-type {\n",
       "        vertical-align: middle;\n",
       "    }\n",
       "\n",
       "    .dataframe tbody tr th {\n",
       "        vertical-align: top;\n",
       "    }\n",
       "\n",
       "    .dataframe thead th {\n",
       "        text-align: right;\n",
       "    }\n",
       "</style>\n",
       "<table border=\"1\" class=\"dataframe\">\n",
       "  <thead>\n",
       "    <tr style=\"text-align: right;\">\n",
       "      <th></th>\n",
       "      <th>V1</th>\n",
       "      <th>V2</th>\n",
       "      <th>V3</th>\n",
       "      <th>V4</th>\n",
       "      <th>V5</th>\n",
       "      <th>V6</th>\n",
       "      <th>V7</th>\n",
       "      <th>V8</th>\n",
       "      <th>V9</th>\n",
       "      <th>V10</th>\n",
       "      <th>...</th>\n",
       "      <th>V21</th>\n",
       "      <th>V22</th>\n",
       "      <th>V23</th>\n",
       "      <th>V24</th>\n",
       "      <th>V25</th>\n",
       "      <th>V26</th>\n",
       "      <th>V27</th>\n",
       "      <th>V28</th>\n",
       "      <th>Amount</th>\n",
       "      <th>Class</th>\n",
       "    </tr>\n",
       "  </thead>\n",
       "  <tbody>\n",
       "    <tr>\n",
       "      <th>0</th>\n",
       "      <td>-1.359807</td>\n",
       "      <td>-0.072781</td>\n",
       "      <td>2.536347</td>\n",
       "      <td>1.378155</td>\n",
       "      <td>-0.338321</td>\n",
       "      <td>0.462388</td>\n",
       "      <td>0.239599</td>\n",
       "      <td>0.098698</td>\n",
       "      <td>0.363787</td>\n",
       "      <td>0.090794</td>\n",
       "      <td>...</td>\n",
       "      <td>-0.018307</td>\n",
       "      <td>0.277838</td>\n",
       "      <td>-0.110474</td>\n",
       "      <td>0.066928</td>\n",
       "      <td>0.128539</td>\n",
       "      <td>-0.189115</td>\n",
       "      <td>0.133558</td>\n",
       "      <td>-0.021053</td>\n",
       "      <td>149.62</td>\n",
       "      <td>0</td>\n",
       "    </tr>\n",
       "    <tr>\n",
       "      <th>1</th>\n",
       "      <td>1.191857</td>\n",
       "      <td>0.266151</td>\n",
       "      <td>0.166480</td>\n",
       "      <td>0.448154</td>\n",
       "      <td>0.060018</td>\n",
       "      <td>-0.082361</td>\n",
       "      <td>-0.078803</td>\n",
       "      <td>0.085102</td>\n",
       "      <td>-0.255425</td>\n",
       "      <td>-0.166974</td>\n",
       "      <td>...</td>\n",
       "      <td>-0.225775</td>\n",
       "      <td>-0.638672</td>\n",
       "      <td>0.101288</td>\n",
       "      <td>-0.339846</td>\n",
       "      <td>0.167170</td>\n",
       "      <td>0.125895</td>\n",
       "      <td>-0.008983</td>\n",
       "      <td>0.014724</td>\n",
       "      <td>2.69</td>\n",
       "      <td>0</td>\n",
       "    </tr>\n",
       "    <tr>\n",
       "      <th>2</th>\n",
       "      <td>-1.358354</td>\n",
       "      <td>-1.340163</td>\n",
       "      <td>1.773209</td>\n",
       "      <td>0.379780</td>\n",
       "      <td>-0.503198</td>\n",
       "      <td>1.800499</td>\n",
       "      <td>0.791461</td>\n",
       "      <td>0.247676</td>\n",
       "      <td>-1.514654</td>\n",
       "      <td>0.207643</td>\n",
       "      <td>...</td>\n",
       "      <td>0.247998</td>\n",
       "      <td>0.771679</td>\n",
       "      <td>0.909412</td>\n",
       "      <td>-0.689281</td>\n",
       "      <td>-0.327642</td>\n",
       "      <td>-0.139097</td>\n",
       "      <td>-0.055353</td>\n",
       "      <td>-0.059752</td>\n",
       "      <td>378.66</td>\n",
       "      <td>0</td>\n",
       "    </tr>\n",
       "    <tr>\n",
       "      <th>3</th>\n",
       "      <td>-0.966272</td>\n",
       "      <td>-0.185226</td>\n",
       "      <td>1.792993</td>\n",
       "      <td>-0.863291</td>\n",
       "      <td>-0.010309</td>\n",
       "      <td>1.247203</td>\n",
       "      <td>0.237609</td>\n",
       "      <td>0.377436</td>\n",
       "      <td>-1.387024</td>\n",
       "      <td>-0.054952</td>\n",
       "      <td>...</td>\n",
       "      <td>-0.108300</td>\n",
       "      <td>0.005274</td>\n",
       "      <td>-0.190321</td>\n",
       "      <td>-1.175575</td>\n",
       "      <td>0.647376</td>\n",
       "      <td>-0.221929</td>\n",
       "      <td>0.062723</td>\n",
       "      <td>0.061458</td>\n",
       "      <td>123.50</td>\n",
       "      <td>0</td>\n",
       "    </tr>\n",
       "    <tr>\n",
       "      <th>4</th>\n",
       "      <td>-1.158233</td>\n",
       "      <td>0.877737</td>\n",
       "      <td>1.548718</td>\n",
       "      <td>0.403034</td>\n",
       "      <td>-0.407193</td>\n",
       "      <td>0.095921</td>\n",
       "      <td>0.592941</td>\n",
       "      <td>-0.270533</td>\n",
       "      <td>0.817739</td>\n",
       "      <td>0.753074</td>\n",
       "      <td>...</td>\n",
       "      <td>-0.009431</td>\n",
       "      <td>0.798278</td>\n",
       "      <td>-0.137458</td>\n",
       "      <td>0.141267</td>\n",
       "      <td>-0.206010</td>\n",
       "      <td>0.502292</td>\n",
       "      <td>0.219422</td>\n",
       "      <td>0.215153</td>\n",
       "      <td>69.99</td>\n",
       "      <td>0</td>\n",
       "    </tr>\n",
       "  </tbody>\n",
       "</table>\n",
       "<p>5 rows × 30 columns</p>\n",
       "</div>"
      ],
      "text/plain": [
       "         V1        V2        V3        V4        V5        V6        V7  \\\n",
       "0 -1.359807 -0.072781  2.536347  1.378155 -0.338321  0.462388  0.239599   \n",
       "1  1.191857  0.266151  0.166480  0.448154  0.060018 -0.082361 -0.078803   \n",
       "2 -1.358354 -1.340163  1.773209  0.379780 -0.503198  1.800499  0.791461   \n",
       "3 -0.966272 -0.185226  1.792993 -0.863291 -0.010309  1.247203  0.237609   \n",
       "4 -1.158233  0.877737  1.548718  0.403034 -0.407193  0.095921  0.592941   \n",
       "\n",
       "         V8        V9       V10  ...       V21       V22       V23       V24  \\\n",
       "0  0.098698  0.363787  0.090794  ... -0.018307  0.277838 -0.110474  0.066928   \n",
       "1  0.085102 -0.255425 -0.166974  ... -0.225775 -0.638672  0.101288 -0.339846   \n",
       "2  0.247676 -1.514654  0.207643  ...  0.247998  0.771679  0.909412 -0.689281   \n",
       "3  0.377436 -1.387024 -0.054952  ... -0.108300  0.005274 -0.190321 -1.175575   \n",
       "4 -0.270533  0.817739  0.753074  ... -0.009431  0.798278 -0.137458  0.141267   \n",
       "\n",
       "        V25       V26       V27       V28  Amount  Class  \n",
       "0  0.128539 -0.189115  0.133558 -0.021053  149.62      0  \n",
       "1  0.167170  0.125895 -0.008983  0.014724    2.69      0  \n",
       "2 -0.327642 -0.139097 -0.055353 -0.059752  378.66      0  \n",
       "3  0.647376 -0.221929  0.062723  0.061458  123.50      0  \n",
       "4 -0.206010  0.502292  0.219422  0.215153   69.99      0  \n",
       "\n",
       "[5 rows x 30 columns]"
      ]
     },
     "execution_count": 2,
     "metadata": {},
     "output_type": "execute_result"
    }
   ],
   "source": [
    "df = pd.read_csv('data/creditcard.csv')\n",
    "\n",
    "# Drop duplicates and Time column\n",
    "df.drop_duplicates(inplace=True)\n",
    "df.drop('Time', axis=1, inplace=True)\n",
    "df.head()"
   ]
  },
  {
   "cell_type": "code",
   "execution_count": 3,
   "id": "09c4cc4c-6ea0-41f4-82f1-467d2c807756",
   "metadata": {},
   "outputs": [
    {
     "name": "stdout",
     "output_type": "stream",
     "text": [
      "There are 283253 normal transactions and 473 fraudulent transactions.\n",
      "0.17% of total transactions were fraudulent\n"
     ]
    }
   ],
   "source": [
    "# Check distribution of Class\n",
    "fraud = df['Class'].value_counts()\n",
    "total = df.shape[0]\n",
    "\n",
    "print(f'There are {fraud[0]} normal transactions and {fraud[1]} fraudulent transactions.')\n",
    "print(f'{fraud[1]/total*100:.2f}% of total transactions were fraudulent')"
   ]
  },
  {
   "cell_type": "markdown",
   "id": "3b235c0b-8b3c-4f8c-a61e-8b9b9477b745",
   "metadata": {},
   "source": [
    "Summary:\n",
    "* Less than 0.5% of data is classified as fraudulent\n",
    "* Note `Amount` appears to not be normalised here. Should normalise prior to modelling\n",
    "\n",
    "Extreme class imbalance is common in fraud detection since a majority of transactions are legitimate. Let's attempt to model this data using logistic regression without any manipulation."
   ]
  },
  {
   "cell_type": "markdown",
   "id": "291a4fde-2e48-4246-b069-0c637e99793b",
   "metadata": {},
   "source": [
    "## Logistic Regression with Original Data"
   ]
  },
  {
   "cell_type": "code",
   "execution_count": 4,
   "id": "0ea75cd2-8cf0-40ce-a34f-b290c33dce4d",
   "metadata": {},
   "outputs": [],
   "source": [
    "X = df.drop('Class', axis=1)\n",
    "y = df['Class']"
   ]
  },
  {
   "cell_type": "code",
   "execution_count": 5,
   "id": "aa840f6d-c8fd-4d0b-95d7-e1293cec7225",
   "metadata": {},
   "outputs": [],
   "source": [
    "# Train/test split\n",
    "X_train, X_test, y_train, y_test = train_test_split(X, y, test_size=0.2, random_state=42)\n",
    "\n",
    "# Normalise Amount column\n",
    "scaler = StandardScaler()\n",
    "X_train['Amount'] = scaler.fit_transform(X_train['Amount'].values.reshape(-1, 1))\n",
    "X_test['Amount'] = scaler.transform (X_test['Amount'].values.reshape(-1, 1))"
   ]
  },
  {
   "cell_type": "markdown",
   "id": "04a74a7f-0d64-48a5-bc63-dae03f313371",
   "metadata": {},
   "source": [
    "Some comments:\n",
    "\n",
    "The `StandardScaler` computes and mean and standard deviation to normalise the columns. The scaler should be fit onto the training data before using it to standardise both training and testing sets. This prevents information from the testing set being used as part of model fitting for training data i.e. it won't influence the mean and standard deviation used to perform the transform. In general, the testing set should not be used anywhere as part of model fitting."
   ]
  },
  {
   "cell_type": "code",
   "execution_count": 6,
   "id": "5613ba23-0af8-4a2c-bbb6-9b783df32c3e",
   "metadata": {},
   "outputs": [
    {
     "name": "stdout",
     "output_type": "stream",
     "text": [
      "Accuracy score: 0.999\n",
      "Precision score: 0.891\n",
      "Recall score: 0.544\n"
     ]
    },
    {
     "data": {
      "text/plain": [
       "<sklearn.metrics._plot.precision_recall_curve.PrecisionRecallDisplay at 0x1e3eb8beda0>"
      ]
     },
     "execution_count": 6,
     "metadata": {},
     "output_type": "execute_result"
    },
    {
     "data": {
      "image/png": "[encoded data removed]",
      "text/plain": [
       "<Figure size 432x288 with 2 Axes>"
      ]
     },
     "metadata": {
      "needs_background": "light"
     },
     "output_type": "display_data"
    },
    {
     "data": {
      "image/png": "[encoded data removed]",
      "text/plain": [
       "<Figure size 432x288 with 1 Axes>"
      ]
     },
     "metadata": {
      "needs_background": "light"
     },
     "output_type": "display_data"
    },
    {
     "data": {
      "image/png": "[encoded data removed]",
      "text/plain": [
       "<Figure size 432x288 with 1 Axes>"
      ]
     },
     "metadata": {
      "needs_background": "light"
     },
     "output_type": "display_data"
    }
   ],
   "source": [
    "# Model Fit\n",
    "lr = LogisticRegression()\n",
    "lr.fit(X_train, y_train)\n",
    "y_pred = lr.predict(X_test)\n",
    "\n",
    "# Model Evaluation\n",
    "acc = accuracy_score(y_test, y_pred)\n",
    "precision = precision_score(y_test, y_pred)\n",
    "recall = recall_score(y_test,y_pred)\n",
    "print(f'Accuracy score: {acc:.3f}')\n",
    "print(f'Precision score: {precision:.3f}')\n",
    "print(f'Recall score: {recall:.3f}')\n",
    "\n",
    "matrix = confusion_matrix(y_test, y_pred)\n",
    "ConfusionMatrixDisplay(matrix).plot()\n",
    "RocCurveDisplay.from_predictions(y_test, y_pred)\n",
    "PrecisionRecallDisplay.from_predictions(y_test, y_pred)"
   ]
  },
  {
   "cell_type": "markdown",
   "id": "094bcad3-646e-48da-a227-d853381372e7",
   "metadata": {},
   "source": [
    "Observations:\n",
    "* Accuracy is misleading when dealing with imbalanced data. Most of the accuracy score is attributed to the vast amount of `0`s in the data. If we have a model that predicts every observation as `0` or not fraudulent then this model will still have high accuracy but will not be useful for detecting fraud\n",
    "* Need to use other metrics such as precision, recall, f1 or other visualisations e.g. AUC-ROC, AUPRC"
   ]
  },
  {
   "cell_type": "markdown",
   "id": "e9557fed-a610-4349-b481-f3d66e11f49d",
   "metadata": {},
   "source": [
    "## Logistic Regression with SMOTE Data"
   ]
  },
  {
   "cell_type": "markdown",
   "id": "6e521f08-356e-46f7-b4a6-c61efe7526c8",
   "metadata": {},
   "source": [
    "Note: Oversampling is only applied to the training data to avoid adding synthetic data to testing set. The level of oversampling is determined by the `sampling_strategy` argument in `SMOTE` which defaults to equal proportion of majority and minority class."
   ]
  },
  {
   "cell_type": "code",
   "execution_count": 7,
   "id": "14ffb735-7b4b-4d3c-ae09-b2b665d687c4",
   "metadata": {},
   "outputs": [],
   "source": [
    "X = df.drop('Class', axis=1)\n",
    "y = df['Class']\n",
    "\n",
    "# Train/test split\n",
    "X_train, X_test, y_train, y_test = train_test_split(X, y, test_size=0.2, random_state=42)"
   ]
  },
  {
   "cell_type": "code",
   "execution_count": 8,
   "id": "77cbb76a-de9a-4220-8766-6df87ac4d0a6",
   "metadata": {},
   "outputs": [
    {
     "name": "stdout",
     "output_type": "stream",
     "text": [
      "Before SMOTE, proportion of training data classed as fraudulent: 0.17%\n",
      "After SMOTE, proportion of training data classed as fraudulent: 50.00%\n"
     ]
    }
   ],
   "source": [
    "smote = SMOTE(random_state=42)\n",
    "X_train_sm, y_train_sm = smote.fit_resample(X_train, y_train)\n",
    "\n",
    "total_train = len(y_train)\n",
    "total_train_sm = len(y_train_sm)\n",
    "fraud_train = sum(y_train == 1)\n",
    "fraud_train_sm = sum(y_train_sm == 1)\n",
    "\n",
    "print(f'Before SMOTE, proportion of training data classed as fraudulent: {fraud_train/total_train*100:.2f}%')\n",
    "print(f'After SMOTE, proportion of training data classed as fraudulent: {fraud_train_sm/total_train_sm*100:.2f}%')"
   ]
  },
  {
   "cell_type": "code",
   "execution_count": 9,
   "id": "3f2d2d64-0625-4b65-bbe1-8dc6da31f027",
   "metadata": {},
   "outputs": [
    {
     "name": "stdout",
     "output_type": "stream",
     "text": [
      "Accuracy score: 0.982\n",
      "Precision score: 0.072\n",
      "Recall score: 0.867\n"
     ]
    },
    {
     "data": {
      "text/plain": [
       "<sklearn.metrics._plot.precision_recall_curve.PrecisionRecallDisplay at 0x1e3eb8be4a0>"
      ]
     },
     "execution_count": 9,
     "metadata": {},
     "output_type": "execute_result"
    },
    {
     "data": {
      "image/png": "[encoded data removed]",
      "text/plain": [
       "<Figure size 432x288 with 2 Axes>"
      ]
     },
     "metadata": {
      "needs_background": "light"
     },
     "output_type": "display_data"
    },
    {
     "data": {
      "image/png": "[encoded data removed]",
      "text/plain": [
       "<Figure size 432x288 with 1 Axes>"
      ]
     },
     "metadata": {
      "needs_background": "light"
     },
     "output_type": "display_data"
    },
    {
     "data": {
      "image/png": "[encoded data removed]",
      "text/plain": [
       "<Figure size 432x288 with 1 Axes>"
      ]
     },
     "metadata": {
      "needs_background": "light"
     },
     "output_type": "display_data"
    }
   ],
   "source": [
    "# Normalise Amount column\n",
    "scaler = StandardScaler()\n",
    "X_train_sm['Amount'] = scaler.fit_transform(X_train_sm['Amount'].values.reshape(-1, 1))\n",
    "X_test['Amount'] = scaler.transform (X_test['Amount'].values.reshape(-1, 1))\n",
    "\n",
    "# Model Fit\n",
    "lr = LogisticRegression()\n",
    "lr.fit(X_train_sm, y_train_sm)\n",
    "y_pred = lr.predict(X_test)\n",
    "\n",
    "# Model Evaluation\n",
    "acc = accuracy_score(y_test, y_pred)\n",
    "precision = precision_score(y_test, y_pred)\n",
    "recall = recall_score(y_test,y_pred)\n",
    "print(f'Accuracy score: {acc:.3f}')\n",
    "print(f'Precision score: {precision:.3f}')\n",
    "print(f'Recall score: {recall:.3f}')\n",
    "\n",
    "matrix = confusion_matrix(y_test, y_pred)\n",
    "ConfusionMatrixDisplay(matrix).plot()\n",
    "RocCurveDisplay.from_predictions(y_test, y_pred)\n",
    "PrecisionRecallDisplay.from_predictions(y_test, y_pred)"
   ]
  },
  {
   "cell_type": "markdown",
   "id": "12a61860-cf27-4279-a070-c58cd41cfb94",
   "metadata": {},
   "source": [
    "Observations:\n",
    "* Oversampling trades precision for recall, leading to more True Positives and False Positives\n",
    "* There is an additional hyperparameter `sampling_strategy` to be tuned\n",
    "\n",
    "Either method can be considered depending on what is required:\n",
    "* The model without oversampling ensures that any predicted frauds are very likely to be actually fraudulent (higher precision). It is more useful when considering the limited resources available for further investigation into the transactions. If every predicted positives were checked, the oversampled data will result in a large number of investigations turning up negative, which may be a waste of resources. \n",
    "* The model using SMOTE ensures that most truly fradulent transactions are identified (higher recall). It is more useful when the emphasis is on identification of positive class and in cases where False Negatives are detrimental e.g. terminal illness.\n",
    "\n",
    "Next Steps:\n",
    "* Cross Validation techniques using SMOTE"
   ]
  }
 ],
 "metadata": {
  "kernelspec": {
   "display_name": "Python 3 (ipykernel)",
   "language": "python",
   "name": "python3"
  },
  "language_info": {
   "codemirror_mode": {
    "name": "ipython",
    "version": 3
   },
   "file_extension": ".py",
   "mimetype": "text/x-python",
   "name": "python",
   "nbconvert_exporter": "python",
   "pygments_lexer": "ipython3",
   "version": "3.10.0"
  }
 },
 "nbformat": 4,
 "nbformat_minor": 5
}
